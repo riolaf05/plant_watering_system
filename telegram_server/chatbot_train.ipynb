{
  "nbformat": 4,
  "nbformat_minor": 0,
  "metadata": {
    "colab": {
      "name": "chatbot_train.ipynb",
      "provenance": []
    },
    "kernelspec": {
      "name": "python3",
      "display_name": "Python 3"
    },
    "accelerator": "GPU"
  },
  "cells": [
    {
      "cell_type": "code",
      "metadata": {
        "id": "3YX4VnTYcOso",
        "colab_type": "code",
        "colab": {
          "base_uri": "https://localhost:8080/",
          "height": 52
        },
        "outputId": "b94665c5-e204-4f13-ed16-96ce092e45d1"
      },
      "source": [
        "!pip3 install nltk "
      ],
      "execution_count": 1,
      "outputs": [
        {
          "output_type": "stream",
          "text": [
            "Requirement already satisfied: nltk in /usr/local/lib/python3.6/dist-packages (3.2.5)\n",
            "Requirement already satisfied: six in /usr/local/lib/python3.6/dist-packages (from nltk) (1.12.0)\n"
          ],
          "name": "stdout"
        }
      ]
    },
    {
      "cell_type": "code",
      "metadata": {
        "id": "VJLnJcJpc4lh",
        "colab_type": "code",
        "colab": {
          "base_uri": "https://localhost:8080/",
          "height": 35
        },
        "outputId": "047230d3-d57a-488f-a817-f7a3936962b6"
      },
      "source": [
        "#mount drive first\n",
        "%mkdir /content/chatbot_smart_garden\n",
        "%cp /content/drive/My\\ Drive/Colab\\ Notebooks/chatbot_smart_garden/* /content/chatbot_smart_garden\n",
        "%cd /content/chatbot_smart_garden"
      ],
      "execution_count": 2,
      "outputs": [
        {
          "output_type": "stream",
          "text": [
            "/content/chatbot_smart_garden\n"
          ],
          "name": "stdout"
        }
      ]
    },
    {
      "cell_type": "code",
      "metadata": {
        "id": "tBvZjs3xc7i3",
        "colab_type": "code",
        "colab": {
          "base_uri": "https://localhost:8080/",
          "height": 35
        },
        "outputId": "c8ecae51-b7bc-4aca-ed16-9bf96a3038e7"
      },
      "source": [
        "import numpy as np\n",
        "from keras.models import Sequential\n",
        "from keras.layers import Dense, Activation, Dropout\n",
        "from keras.optimizers import SGD\n",
        "import random\n",
        "import nltk\n",
        "from nltk.stem import WordNetLemmatizer\n",
        "lemmatizer = WordNetLemmatizer()\n",
        "import json\n",
        "import pickle\n",
        "intents_file = open('intents.json').read()\n",
        "intents = json.loads(intents_file)"
      ],
      "execution_count": 3,
      "outputs": [
        {
          "output_type": "stream",
          "text": [
            "Using TensorFlow backend.\n"
          ],
          "name": "stderr"
        }
      ]
    },
    {
      "cell_type": "code",
      "metadata": {
        "id": "RtCc0vudc88Z",
        "colab_type": "code",
        "colab": {
          "base_uri": "https://localhost:8080/",
          "height": 104
        },
        "outputId": "a99ec301-65f7-40b6-d62c-4d047ec129f6"
      },
      "source": [
        "nltk.download('punkt')\n",
        "nltk.download('wordnet')"
      ],
      "execution_count": 4,
      "outputs": [
        {
          "output_type": "stream",
          "text": [
            "[nltk_data] Downloading package punkt to /root/nltk_data...\n",
            "[nltk_data]   Unzipping tokenizers/punkt.zip.\n",
            "[nltk_data] Downloading package wordnet to /root/nltk_data...\n",
            "[nltk_data]   Unzipping corpora/wordnet.zip.\n"
          ],
          "name": "stdout"
        },
        {
          "output_type": "execute_result",
          "data": {
            "text/plain": [
              "True"
            ]
          },
          "metadata": {
            "tags": []
          },
          "execution_count": 4
        }
      ]
    },
    {
      "cell_type": "code",
      "metadata": {
        "id": "GUYuj1W4dATP",
        "colab_type": "code",
        "colab": {
          "base_uri": "https://localhost:8080/",
          "height": 89
        },
        "outputId": "39cc8204-e6e7-42c9-c9a5-378e4eb796bf"
      },
      "source": [
        "words=[]\n",
        "classes = []\n",
        "documents = []\n",
        "ignore_letters = ['!', '?', ',', '.']\n",
        "intents_file = open('intents.json').read()\n",
        "intents = json.loads(intents_file)\n",
        "\n",
        "for intent in intents['intents']:\n",
        "    for pattern in intent['patterns']:\n",
        "        #tokenize each word\n",
        "        word = nltk.word_tokenize(pattern)\n",
        "        words.extend(word)\n",
        "        #add documents in the corpus\n",
        "        documents.append((word, intent['tag']))\n",
        "        # add to our classes list\n",
        "        if intent['tag'] not in classes:\n",
        "            classes.append(intent['tag'])\n",
        "print(documents) #list of classes and documents to add all the intents associated with patterns\n",
        "print(classes)\n",
        "print(words)"
      ],
      "execution_count": 5,
      "outputs": [
        {
          "output_type": "stream",
          "text": [
            "[(['Annaffia', 'pomodori'], 'annaffia_pomodori'), (['pomodori'], 'annaffia_pomodori'), (['I', 'pomodori', 'sono', 'secchi'], 'annaffia_pomodori'), (['pomodori', 'annaffia'], 'annaffia_pomodori'), (['Annaffia', 'rose'], 'annaffia_rose'), (['rose'], 'annaffia_rose'), (['Le', 'rose', 'sono', 'secche'], 'annaffia_rose'), (['rose', 'annaffia'], 'annaffia_rose'), (['Annaffia', 'geranei'], 'annaffia_geranei'), (['geranei'], 'annaffia_geranei'), (['I', 'geranei', 'sono', 'secchi'], 'annaffia_geranei'), (['geranei', 'annaffia'], 'annaffia_geranei'), (['Annaffia', 'magnolie'], 'annaffia_magnolie'), (['magnolie'], 'annaffia_magnolie'), (['Le', 'magnolie', 'sono', 'secche'], 'annaffia_magnolie'), (['magnolie', 'annaffia'], 'annaffia_magnolie'), (['Annaffia', 'viole'], 'annaffia_viole'), (['viole'], 'annaffia_viole'), (['Le', 'viole', 'sono', 'secche'], 'annaffia_viole'), (['viole', 'annaffia'], 'annaffia_viole')]\n",
            "['annaffia_pomodori', 'annaffia_rose', 'annaffia_geranei', 'annaffia_magnolie', 'annaffia_viole']\n",
            "['Annaffia', 'pomodori', 'pomodori', 'I', 'pomodori', 'sono', 'secchi', 'pomodori', 'annaffia', 'Annaffia', 'rose', 'rose', 'Le', 'rose', 'sono', 'secche', 'rose', 'annaffia', 'Annaffia', 'geranei', 'geranei', 'I', 'geranei', 'sono', 'secchi', 'geranei', 'annaffia', 'Annaffia', 'magnolie', 'magnolie', 'Le', 'magnolie', 'sono', 'secche', 'magnolie', 'annaffia', 'Annaffia', 'viole', 'viole', 'Le', 'viole', 'sono', 'secche', 'viole', 'annaffia']\n"
          ],
          "name": "stdout"
        }
      ]
    },
    {
      "cell_type": "code",
      "metadata": {
        "id": "wUFoJA_bdA9I",
        "colab_type": "code",
        "colab": {
          "base_uri": "https://localhost:8080/",
          "height": 35
        },
        "outputId": "e05ceef3-8ecf-4ebf-9bdf-5ce2c6de048b"
      },
      "source": [
        "#We can convert words into the lemma form so that we can reduce all the canonical words. \n",
        "#For example, the words play, playing, plays, played, etc. will all be replaced with play.\n",
        "\n",
        "# lemmaztize and lower each word and remove duplicates\n",
        "words = [lemmatizer.lemmatize(w.lower()) for w in words if w not in ignore_letters]\n",
        "words = sorted(list(set(words)))\n",
        "print(words)"
      ],
      "execution_count": 6,
      "outputs": [
        {
          "output_type": "stream",
          "text": [
            "['annaffia', 'geranei', 'i', 'le', 'magnolie', 'pomodori', 'rose', 'secche', 'secchi', 'sono', 'viole']\n"
          ],
          "name": "stdout"
        }
      ]
    },
    {
      "cell_type": "code",
      "metadata": {
        "id": "S5Lhdl39dCYE",
        "colab_type": "code",
        "colab": {
          "base_uri": "https://localhost:8080/",
          "height": 35
        },
        "outputId": "24c97c09-6d38-43ed-87b1-ed4973755f39"
      },
      "source": [
        "# sort classes\n",
        "classes = sorted(list(set(classes)))\n",
        "print(classes)"
      ],
      "execution_count": 7,
      "outputs": [
        {
          "output_type": "stream",
          "text": [
            "['annaffia_geranei', 'annaffia_magnolie', 'annaffia_pomodori', 'annaffia_rose', 'annaffia_viole']\n"
          ],
          "name": "stdout"
        }
      ]
    },
    {
      "cell_type": "code",
      "metadata": {
        "id": "t4pYoS1udEKj",
        "colab_type": "code",
        "colab": {
          "base_uri": "https://localhost:8080/",
          "height": 89
        },
        "outputId": "c803b95a-ee9c-4ca3-9e72-ec657156f349"
      },
      "source": [
        "# documents = combination between patterns and intents\n",
        "print (len(documents), \"documents\")\n",
        "# classes = intents\n",
        "print (len(classes), \"classes\", classes)\n",
        "# words = all words, vocabulary\n",
        "print (len(words), \"unique lemmatized words\", words)\n",
        "\n",
        "pickle.dump(words,open('words.pkl','wb'))\n",
        "pickle.dump(classes,open('classes.pkl','wb'))"
      ],
      "execution_count": 8,
      "outputs": [
        {
          "output_type": "stream",
          "text": [
            "20 documents\n",
            "5 classes ['annaffia_geranei', 'annaffia_magnolie', 'annaffia_pomodori', 'annaffia_rose', 'annaffia_viole']\n",
            "11 unique lemmatized words ['annaffia', 'geranei', 'i', 'le', 'magnolie', 'pomodori', 'rose', 'secche', 'secchi', 'sono', 'viole']\n"
          ],
          "name": "stdout"
        }
      ]
    },
    {
      "cell_type": "code",
      "metadata": {
        "id": "p0JXzcJtdGGA",
        "colab_type": "code",
        "colab": {
          "base_uri": "https://localhost:8080/",
          "height": 72
        },
        "outputId": "5d9590cf-0182-4206-cff7-716a4636f884"
      },
      "source": [
        "# create our training data\n",
        "training = []\n",
        "# create an empty array for our output\n",
        "output_empty = [0] * len(classes)\n",
        "# training set, bag of words for each sentence\n",
        "for doc in documents:\n",
        "    # initialize our bag of words\n",
        "    bag = []\n",
        "    # list of tokenized words for the pattern\n",
        "    pattern_words = doc[0]\n",
        "    # lemmatize each word - create base word, in attempt to represent related words\n",
        "    pattern_words = [lemmatizer.lemmatize(word.lower()) for word in pattern_words]\n",
        "    # create our bag of words array with 1, if word match found in current pattern\n",
        "    for word in words:\n",
        "        bag.append(1) if word in pattern_words else bag.append(0)\n",
        "        \n",
        "    # class matrix: output is a '0' for each tag and '1' for current tag (for each pattern)\n",
        "    output_row = list(output_empty)\n",
        "    output_row[classes.index(doc[1])] = 1\n",
        "    \n",
        "    training.append([bag, output_row])\n",
        "\n",
        "# shuffle our features and turn into np.array\n",
        "random.shuffle(training)\n",
        "training = np.array(training)\n",
        "# create train and test lists. X - patterns, Y - intents\n",
        "train_x = list(training[:,0])\n",
        "train_y = list(training[:,1])\n",
        "print(train_x)\n",
        "print(train_y)"
      ],
      "execution_count": 9,
      "outputs": [
        {
          "output_type": "stream",
          "text": [
            "[[1, 0, 0, 0, 0, 1, 0, 0, 0, 0, 0], [0, 1, 1, 0, 0, 0, 0, 0, 1, 1, 0], [1, 0, 0, 0, 0, 0, 0, 0, 0, 0, 1], [0, 0, 0, 1, 0, 0, 0, 1, 0, 1, 1], [0, 0, 1, 0, 0, 1, 0, 0, 1, 1, 0], [1, 1, 0, 0, 0, 0, 0, 0, 0, 0, 0], [0, 0, 0, 0, 0, 1, 0, 0, 0, 0, 0], [0, 0, 0, 0, 1, 0, 0, 0, 0, 0, 0], [1, 0, 0, 0, 0, 0, 1, 0, 0, 0, 0], [0, 0, 0, 0, 0, 0, 1, 0, 0, 0, 0], [0, 0, 0, 1, 1, 0, 0, 1, 0, 1, 0], [0, 1, 0, 0, 0, 0, 0, 0, 0, 0, 0], [1, 0, 0, 0, 1, 0, 0, 0, 0, 0, 0], [1, 0, 0, 0, 0, 0, 0, 0, 0, 0, 1], [0, 0, 0, 1, 0, 0, 1, 1, 0, 1, 0], [1, 0, 0, 0, 0, 1, 0, 0, 0, 0, 0], [0, 0, 0, 0, 0, 0, 0, 0, 0, 0, 1], [1, 0, 0, 0, 0, 0, 1, 0, 0, 0, 0], [1, 0, 0, 0, 1, 0, 0, 0, 0, 0, 0], [1, 1, 0, 0, 0, 0, 0, 0, 0, 0, 0]]\n",
            "[[0, 0, 1, 0, 0], [1, 0, 0, 0, 0], [0, 0, 0, 0, 1], [0, 0, 0, 0, 1], [0, 0, 1, 0, 0], [1, 0, 0, 0, 0], [0, 0, 1, 0, 0], [0, 1, 0, 0, 0], [0, 0, 0, 1, 0], [0, 0, 0, 1, 0], [0, 1, 0, 0, 0], [1, 0, 0, 0, 0], [0, 1, 0, 0, 0], [0, 0, 0, 0, 1], [0, 0, 0, 1, 0], [0, 0, 1, 0, 0], [0, 0, 0, 0, 1], [0, 0, 0, 1, 0], [0, 1, 0, 0, 0], [1, 0, 0, 0, 0]]\n"
          ],
          "name": "stdout"
        }
      ]
    },
    {
      "cell_type": "code",
      "metadata": {
        "id": "SWzEssBbdHn1",
        "colab_type": "code",
        "colab": {}
      },
      "source": [
        "# Create model - 3 layers. First layer 128 neurons, second layer 64 neurons and 3rd output layer contains number of neurons\n",
        "# equal to number of intents to predict output intent with softmax\n",
        "model = Sequential()\n",
        "model.add(Dense(128, input_shape=(len(train_x[0]),), activation='relu'))\n",
        "model.add(Dropout(0.5))\n",
        "model.add(Dense(64, activation='relu'))\n",
        "model.add(Dropout(0.5))\n",
        "model.add(Dense(len(train_y[0]), activation='softmax'))"
      ],
      "execution_count": 0,
      "outputs": []
    },
    {
      "cell_type": "code",
      "metadata": {
        "id": "59rWCKcxdItA",
        "colab_type": "code",
        "colab": {}
      },
      "source": [
        "# Compile model. Stochastic gradient descent with Nesterov accelerated gradient gives good results for this model\n",
        "sgd = SGD(lr=0.01, decay=1e-6, momentum=0.9, nesterov=True)\n",
        "model.compile(loss='categorical_crossentropy', optimizer=sgd, metrics=['accuracy'])"
      ],
      "execution_count": 0,
      "outputs": []
    },
    {
      "cell_type": "code",
      "metadata": {
        "id": "HXYbmPFIdJ9F",
        "colab_type": "code",
        "colab": {
          "base_uri": "https://localhost:8080/",
          "height": 1000
        },
        "outputId": "c27d3445-cbbd-4f8c-e92a-6e68646ab58f"
      },
      "source": [
        "#fitting and saving the model \n",
        "hist = model.fit(np.array(train_x), np.array(train_y), epochs=200, batch_size=5, verbose=1)\n",
        "model.save('chatbot_model.h5', hist)"
      ],
      "execution_count": 12,
      "outputs": [
        {
          "output_type": "stream",
          "text": [
            "Epoch 1/200\n",
            "20/20 [==============================] - 2s 87ms/step - loss: 1.6745 - accuracy: 0.2000\n",
            "Epoch 2/200\n",
            "20/20 [==============================] - 0s 671us/step - loss: 1.5631 - accuracy: 0.2000\n",
            "Epoch 3/200\n",
            "20/20 [==============================] - 0s 681us/step - loss: 1.4993 - accuracy: 0.2000\n",
            "Epoch 4/200\n",
            "20/20 [==============================] - 0s 736us/step - loss: 1.5054 - accuracy: 0.3000\n",
            "Epoch 5/200\n",
            "20/20 [==============================] - 0s 623us/step - loss: 1.4036 - accuracy: 0.4500\n",
            "Epoch 6/200\n",
            "20/20 [==============================] - 0s 622us/step - loss: 1.3814 - accuracy: 0.5500\n",
            "Epoch 7/200\n",
            "20/20 [==============================] - 0s 720us/step - loss: 1.3016 - accuracy: 0.7000\n",
            "Epoch 8/200\n",
            "20/20 [==============================] - 0s 682us/step - loss: 1.2608 - accuracy: 0.5500\n",
            "Epoch 9/200\n",
            "20/20 [==============================] - 0s 662us/step - loss: 1.2297 - accuracy: 0.7000\n",
            "Epoch 10/200\n",
            "20/20 [==============================] - 0s 685us/step - loss: 1.0787 - accuracy: 0.8000\n",
            "Epoch 11/200\n",
            "20/20 [==============================] - 0s 665us/step - loss: 0.9681 - accuracy: 0.7500\n",
            "Epoch 12/200\n",
            "20/20 [==============================] - 0s 610us/step - loss: 0.9725 - accuracy: 0.8000\n",
            "Epoch 13/200\n",
            "20/20 [==============================] - 0s 664us/step - loss: 0.8510 - accuracy: 0.8000\n",
            "Epoch 14/200\n",
            "20/20 [==============================] - 0s 735us/step - loss: 0.7809 - accuracy: 0.7500\n",
            "Epoch 15/200\n",
            "20/20 [==============================] - 0s 711us/step - loss: 0.8321 - accuracy: 0.8000\n",
            "Epoch 16/200\n",
            "20/20 [==============================] - 0s 733us/step - loss: 0.4650 - accuracy: 0.9500\n",
            "Epoch 17/200\n",
            "20/20 [==============================] - 0s 659us/step - loss: 0.5947 - accuracy: 0.9000\n",
            "Epoch 18/200\n",
            "20/20 [==============================] - 0s 632us/step - loss: 0.4339 - accuracy: 0.9500\n",
            "Epoch 19/200\n",
            "20/20 [==============================] - 0s 657us/step - loss: 0.5161 - accuracy: 0.9500\n",
            "Epoch 20/200\n",
            "20/20 [==============================] - 0s 684us/step - loss: 0.4047 - accuracy: 1.0000\n",
            "Epoch 21/200\n",
            "20/20 [==============================] - 0s 695us/step - loss: 0.2832 - accuracy: 1.0000\n",
            "Epoch 22/200\n",
            "20/20 [==============================] - 0s 729us/step - loss: 0.3970 - accuracy: 0.9000\n",
            "Epoch 23/200\n",
            "20/20 [==============================] - 0s 730us/step - loss: 0.2468 - accuracy: 1.0000\n",
            "Epoch 24/200\n",
            "20/20 [==============================] - 0s 712us/step - loss: 0.4991 - accuracy: 0.9000\n",
            "Epoch 25/200\n",
            "20/20 [==============================] - 0s 705us/step - loss: 0.2492 - accuracy: 1.0000\n",
            "Epoch 26/200\n",
            "20/20 [==============================] - 0s 745us/step - loss: 0.3009 - accuracy: 0.9500\n",
            "Epoch 27/200\n",
            "20/20 [==============================] - 0s 703us/step - loss: 0.2037 - accuracy: 0.9500\n",
            "Epoch 28/200\n",
            "20/20 [==============================] - 0s 680us/step - loss: 0.2617 - accuracy: 1.0000\n",
            "Epoch 29/200\n",
            "20/20 [==============================] - 0s 682us/step - loss: 0.0961 - accuracy: 1.0000\n",
            "Epoch 30/200\n",
            "20/20 [==============================] - 0s 962us/step - loss: 0.1787 - accuracy: 0.9500\n",
            "Epoch 31/200\n",
            "20/20 [==============================] - 0s 795us/step - loss: 0.2273 - accuracy: 0.9500\n",
            "Epoch 32/200\n",
            "20/20 [==============================] - 0s 696us/step - loss: 0.1067 - accuracy: 1.0000\n",
            "Epoch 33/200\n",
            "20/20 [==============================] - 0s 673us/step - loss: 0.2110 - accuracy: 1.0000\n",
            "Epoch 34/200\n",
            "20/20 [==============================] - 0s 673us/step - loss: 0.0924 - accuracy: 1.0000\n",
            "Epoch 35/200\n",
            "20/20 [==============================] - 0s 1ms/step - loss: 0.1582 - accuracy: 1.0000\n",
            "Epoch 36/200\n",
            "20/20 [==============================] - 0s 682us/step - loss: 0.1151 - accuracy: 1.0000\n",
            "Epoch 37/200\n",
            "20/20 [==============================] - 0s 621us/step - loss: 0.1291 - accuracy: 1.0000\n",
            "Epoch 38/200\n",
            "20/20 [==============================] - 0s 651us/step - loss: 0.0902 - accuracy: 1.0000\n",
            "Epoch 39/200\n",
            "20/20 [==============================] - 0s 634us/step - loss: 0.1687 - accuracy: 0.9500\n",
            "Epoch 40/200\n",
            "20/20 [==============================] - 0s 692us/step - loss: 0.2440 - accuracy: 0.9500\n",
            "Epoch 41/200\n",
            "20/20 [==============================] - 0s 653us/step - loss: 0.1807 - accuracy: 0.9500\n",
            "Epoch 42/200\n",
            "20/20 [==============================] - 0s 647us/step - loss: 0.0412 - accuracy: 1.0000\n",
            "Epoch 43/200\n",
            "20/20 [==============================] - 0s 755us/step - loss: 0.1511 - accuracy: 1.0000\n",
            "Epoch 44/200\n",
            "20/20 [==============================] - 0s 748us/step - loss: 0.0695 - accuracy: 1.0000\n",
            "Epoch 45/200\n",
            "20/20 [==============================] - 0s 669us/step - loss: 0.0831 - accuracy: 1.0000\n",
            "Epoch 46/200\n",
            "20/20 [==============================] - 0s 654us/step - loss: 0.0644 - accuracy: 1.0000\n",
            "Epoch 47/200\n",
            "20/20 [==============================] - 0s 742us/step - loss: 0.0918 - accuracy: 1.0000\n",
            "Epoch 48/200\n",
            "20/20 [==============================] - 0s 712us/step - loss: 0.0943 - accuracy: 1.0000\n",
            "Epoch 49/200\n",
            "20/20 [==============================] - 0s 870us/step - loss: 0.1108 - accuracy: 1.0000\n",
            "Epoch 50/200\n",
            "20/20 [==============================] - 0s 790us/step - loss: 0.1799 - accuracy: 0.9500\n",
            "Epoch 51/200\n",
            "20/20 [==============================] - 0s 735us/step - loss: 0.1445 - accuracy: 1.0000\n",
            "Epoch 52/200\n",
            "20/20 [==============================] - 0s 635us/step - loss: 0.0297 - accuracy: 1.0000\n",
            "Epoch 53/200\n",
            "20/20 [==============================] - 0s 1ms/step - loss: 0.0505 - accuracy: 1.0000\n",
            "Epoch 54/200\n",
            "20/20 [==============================] - 0s 717us/step - loss: 0.1080 - accuracy: 1.0000\n",
            "Epoch 55/200\n",
            "20/20 [==============================] - 0s 675us/step - loss: 0.0633 - accuracy: 1.0000\n",
            "Epoch 56/200\n",
            "20/20 [==============================] - 0s 676us/step - loss: 0.1141 - accuracy: 0.9500\n",
            "Epoch 57/200\n",
            "20/20 [==============================] - 0s 655us/step - loss: 0.1167 - accuracy: 0.9500\n",
            "Epoch 58/200\n",
            "20/20 [==============================] - 0s 683us/step - loss: 0.0509 - accuracy: 1.0000\n",
            "Epoch 59/200\n",
            "20/20 [==============================] - 0s 808us/step - loss: 0.0283 - accuracy: 1.0000\n",
            "Epoch 60/200\n",
            "20/20 [==============================] - 0s 735us/step - loss: 0.0210 - accuracy: 1.0000\n",
            "Epoch 61/200\n",
            "20/20 [==============================] - 0s 746us/step - loss: 0.0771 - accuracy: 1.0000\n",
            "Epoch 62/200\n",
            "20/20 [==============================] - 0s 753us/step - loss: 0.0416 - accuracy: 1.0000\n",
            "Epoch 63/200\n",
            "20/20 [==============================] - 0s 619us/step - loss: 0.0369 - accuracy: 1.0000\n",
            "Epoch 64/200\n",
            "20/20 [==============================] - 0s 703us/step - loss: 0.0375 - accuracy: 1.0000\n",
            "Epoch 65/200\n",
            "20/20 [==============================] - 0s 612us/step - loss: 0.0472 - accuracy: 1.0000\n",
            "Epoch 66/200\n",
            "20/20 [==============================] - 0s 611us/step - loss: 0.0478 - accuracy: 1.0000\n",
            "Epoch 67/200\n",
            "20/20 [==============================] - 0s 630us/step - loss: 0.0388 - accuracy: 1.0000\n",
            "Epoch 68/200\n",
            "20/20 [==============================] - 0s 626us/step - loss: 0.0258 - accuracy: 1.0000\n",
            "Epoch 69/200\n",
            "20/20 [==============================] - 0s 701us/step - loss: 0.0383 - accuracy: 1.0000\n",
            "Epoch 70/200\n",
            "20/20 [==============================] - 0s 743us/step - loss: 0.1120 - accuracy: 0.9500\n",
            "Epoch 71/200\n",
            "20/20 [==============================] - 0s 783us/step - loss: 0.0395 - accuracy: 1.0000\n",
            "Epoch 72/200\n",
            "20/20 [==============================] - 0s 767us/step - loss: 0.0401 - accuracy: 1.0000\n",
            "Epoch 73/200\n",
            "20/20 [==============================] - 0s 722us/step - loss: 0.0914 - accuracy: 1.0000\n",
            "Epoch 74/200\n",
            "20/20 [==============================] - 0s 671us/step - loss: 0.0263 - accuracy: 1.0000\n",
            "Epoch 75/200\n",
            "20/20 [==============================] - 0s 748us/step - loss: 0.0286 - accuracy: 1.0000\n",
            "Epoch 76/200\n",
            "20/20 [==============================] - 0s 724us/step - loss: 0.0505 - accuracy: 1.0000\n",
            "Epoch 77/200\n",
            "20/20 [==============================] - 0s 683us/step - loss: 0.0211 - accuracy: 1.0000\n",
            "Epoch 78/200\n",
            "20/20 [==============================] - 0s 730us/step - loss: 0.0135 - accuracy: 1.0000\n",
            "Epoch 79/200\n",
            "20/20 [==============================] - 0s 1ms/step - loss: 0.0350 - accuracy: 1.0000\n",
            "Epoch 80/200\n",
            "20/20 [==============================] - 0s 679us/step - loss: 0.0878 - accuracy: 1.0000\n",
            "Epoch 81/200\n",
            "20/20 [==============================] - 0s 760us/step - loss: 0.0655 - accuracy: 0.9500\n",
            "Epoch 82/200\n",
            "20/20 [==============================] - 0s 789us/step - loss: 0.0280 - accuracy: 1.0000\n",
            "Epoch 83/200\n",
            "20/20 [==============================] - 0s 644us/step - loss: 0.0094 - accuracy: 1.0000\n",
            "Epoch 84/200\n",
            "20/20 [==============================] - 0s 703us/step - loss: 0.0115 - accuracy: 1.0000\n",
            "Epoch 85/200\n",
            "20/20 [==============================] - 0s 775us/step - loss: 0.0259 - accuracy: 1.0000\n",
            "Epoch 86/200\n",
            "20/20 [==============================] - 0s 688us/step - loss: 0.0170 - accuracy: 1.0000\n",
            "Epoch 87/200\n",
            "20/20 [==============================] - 0s 651us/step - loss: 0.0380 - accuracy: 1.0000\n",
            "Epoch 88/200\n",
            "20/20 [==============================] - 0s 610us/step - loss: 0.0204 - accuracy: 1.0000\n",
            "Epoch 89/200\n",
            "20/20 [==============================] - 0s 671us/step - loss: 0.1321 - accuracy: 0.9500\n",
            "Epoch 90/200\n",
            "20/20 [==============================] - 0s 925us/step - loss: 0.0115 - accuracy: 1.0000\n",
            "Epoch 91/200\n",
            "20/20 [==============================] - 0s 952us/step - loss: 0.0778 - accuracy: 1.0000\n",
            "Epoch 92/200\n",
            "20/20 [==============================] - 0s 698us/step - loss: 0.0109 - accuracy: 1.0000\n",
            "Epoch 93/200\n",
            "20/20 [==============================] - 0s 696us/step - loss: 0.0122 - accuracy: 1.0000\n",
            "Epoch 94/200\n",
            "20/20 [==============================] - 0s 747us/step - loss: 0.0234 - accuracy: 1.0000\n",
            "Epoch 95/200\n",
            "20/20 [==============================] - 0s 746us/step - loss: 0.0226 - accuracy: 1.0000\n",
            "Epoch 96/200\n",
            "20/20 [==============================] - 0s 712us/step - loss: 0.0437 - accuracy: 1.0000\n",
            "Epoch 97/200\n",
            "20/20 [==============================] - 0s 774us/step - loss: 0.0273 - accuracy: 1.0000\n",
            "Epoch 98/200\n",
            "20/20 [==============================] - 0s 644us/step - loss: 0.0013 - accuracy: 1.0000\n",
            "Epoch 99/200\n",
            "20/20 [==============================] - 0s 614us/step - loss: 0.0180 - accuracy: 1.0000\n",
            "Epoch 100/200\n",
            "20/20 [==============================] - 0s 579us/step - loss: 0.0068 - accuracy: 1.0000\n",
            "Epoch 101/200\n",
            "20/20 [==============================] - 0s 736us/step - loss: 0.0346 - accuracy: 1.0000\n",
            "Epoch 102/200\n",
            "20/20 [==============================] - 0s 704us/step - loss: 0.0076 - accuracy: 1.0000\n",
            "Epoch 103/200\n",
            "20/20 [==============================] - 0s 719us/step - loss: 0.0777 - accuracy: 1.0000\n",
            "Epoch 104/200\n",
            "20/20 [==============================] - 0s 659us/step - loss: 0.0210 - accuracy: 1.0000\n",
            "Epoch 105/200\n",
            "20/20 [==============================] - 0s 1ms/step - loss: 0.0058 - accuracy: 1.0000\n",
            "Epoch 106/200\n",
            "20/20 [==============================] - 0s 910us/step - loss: 0.0514 - accuracy: 1.0000\n",
            "Epoch 107/200\n",
            "20/20 [==============================] - 0s 731us/step - loss: 0.0221 - accuracy: 1.0000\n",
            "Epoch 108/200\n",
            "20/20 [==============================] - 0s 849us/step - loss: 0.0950 - accuracy: 1.0000\n",
            "Epoch 109/200\n",
            "20/20 [==============================] - 0s 654us/step - loss: 0.0117 - accuracy: 1.0000\n",
            "Epoch 110/200\n",
            "20/20 [==============================] - 0s 634us/step - loss: 0.0374 - accuracy: 1.0000\n",
            "Epoch 111/200\n",
            "20/20 [==============================] - 0s 638us/step - loss: 0.0428 - accuracy: 0.9500\n",
            "Epoch 112/200\n",
            "20/20 [==============================] - 0s 849us/step - loss: 0.0545 - accuracy: 1.0000\n",
            "Epoch 113/200\n",
            "20/20 [==============================] - 0s 774us/step - loss: 0.0478 - accuracy: 1.0000\n",
            "Epoch 114/200\n",
            "20/20 [==============================] - 0s 621us/step - loss: 0.0262 - accuracy: 1.0000\n",
            "Epoch 115/200\n",
            "20/20 [==============================] - 0s 596us/step - loss: 0.0438 - accuracy: 1.0000\n",
            "Epoch 116/200\n",
            "20/20 [==============================] - 0s 632us/step - loss: 0.0384 - accuracy: 1.0000\n",
            "Epoch 117/200\n",
            "20/20 [==============================] - 0s 661us/step - loss: 0.0985 - accuracy: 0.9500\n",
            "Epoch 118/200\n",
            "20/20 [==============================] - 0s 654us/step - loss: 0.0176 - accuracy: 1.0000\n",
            "Epoch 119/200\n",
            "20/20 [==============================] - 0s 617us/step - loss: 0.0222 - accuracy: 1.0000\n",
            "Epoch 120/200\n",
            "20/20 [==============================] - 0s 743us/step - loss: 0.0076 - accuracy: 1.0000\n",
            "Epoch 121/200\n",
            "20/20 [==============================] - 0s 732us/step - loss: 0.0204 - accuracy: 1.0000\n",
            "Epoch 122/200\n",
            "20/20 [==============================] - 0s 831us/step - loss: 0.0478 - accuracy: 1.0000\n",
            "Epoch 123/200\n",
            "20/20 [==============================] - 0s 696us/step - loss: 0.0158 - accuracy: 1.0000\n",
            "Epoch 124/200\n",
            "20/20 [==============================] - 0s 655us/step - loss: 0.0455 - accuracy: 1.0000\n",
            "Epoch 125/200\n",
            "20/20 [==============================] - 0s 690us/step - loss: 0.0178 - accuracy: 1.0000\n",
            "Epoch 126/200\n",
            "20/20 [==============================] - 0s 594us/step - loss: 0.0068 - accuracy: 1.0000\n",
            "Epoch 127/200\n",
            "20/20 [==============================] - 0s 647us/step - loss: 0.0588 - accuracy: 1.0000\n",
            "Epoch 128/200\n",
            "20/20 [==============================] - 0s 656us/step - loss: 0.0189 - accuracy: 1.0000\n",
            "Epoch 129/200\n",
            "20/20 [==============================] - 0s 675us/step - loss: 0.0355 - accuracy: 1.0000\n",
            "Epoch 130/200\n",
            "20/20 [==============================] - 0s 672us/step - loss: 0.0147 - accuracy: 1.0000\n",
            "Epoch 131/200\n",
            "20/20 [==============================] - 0s 673us/step - loss: 0.0691 - accuracy: 1.0000\n",
            "Epoch 132/200\n",
            "20/20 [==============================] - 0s 588us/step - loss: 0.0466 - accuracy: 1.0000\n",
            "Epoch 133/200\n",
            "20/20 [==============================] - 0s 602us/step - loss: 0.0371 - accuracy: 1.0000\n",
            "Epoch 134/200\n",
            "20/20 [==============================] - 0s 753us/step - loss: 0.0120 - accuracy: 1.0000\n",
            "Epoch 135/200\n",
            "20/20 [==============================] - 0s 784us/step - loss: 0.0075 - accuracy: 1.0000\n",
            "Epoch 136/200\n",
            "20/20 [==============================] - 0s 712us/step - loss: 0.0060 - accuracy: 1.0000\n",
            "Epoch 137/200\n",
            "20/20 [==============================] - 0s 740us/step - loss: 0.0456 - accuracy: 1.0000\n",
            "Epoch 138/200\n",
            "20/20 [==============================] - 0s 724us/step - loss: 0.0672 - accuracy: 0.9500\n",
            "Epoch 139/200\n",
            "20/20 [==============================] - 0s 694us/step - loss: 0.0073 - accuracy: 1.0000\n",
            "Epoch 140/200\n",
            "20/20 [==============================] - 0s 619us/step - loss: 0.0026 - accuracy: 1.0000\n",
            "Epoch 141/200\n",
            "20/20 [==============================] - 0s 697us/step - loss: 0.0321 - accuracy: 1.0000\n",
            "Epoch 142/200\n",
            "20/20 [==============================] - 0s 653us/step - loss: 0.0089 - accuracy: 1.0000\n",
            "Epoch 143/200\n",
            "20/20 [==============================] - 0s 697us/step - loss: 0.0555 - accuracy: 1.0000\n",
            "Epoch 144/200\n",
            "20/20 [==============================] - 0s 604us/step - loss: 0.0437 - accuracy: 1.0000\n",
            "Epoch 145/200\n",
            "20/20 [==============================] - 0s 651us/step - loss: 0.0095 - accuracy: 1.0000\n",
            "Epoch 146/200\n",
            "20/20 [==============================] - 0s 677us/step - loss: 0.0745 - accuracy: 0.9500\n",
            "Epoch 147/200\n",
            "20/20 [==============================] - 0s 668us/step - loss: 0.0026 - accuracy: 1.0000\n",
            "Epoch 148/200\n",
            "20/20 [==============================] - 0s 629us/step - loss: 0.0800 - accuracy: 0.9500\n",
            "Epoch 149/200\n",
            "20/20 [==============================] - 0s 761us/step - loss: 0.0237 - accuracy: 1.0000\n",
            "Epoch 150/200\n",
            "20/20 [==============================] - 0s 673us/step - loss: 0.0173 - accuracy: 1.0000\n",
            "Epoch 151/200\n",
            "20/20 [==============================] - 0s 758us/step - loss: 0.0383 - accuracy: 1.0000\n",
            "Epoch 152/200\n",
            "20/20 [==============================] - 0s 960us/step - loss: 0.0500 - accuracy: 1.0000\n",
            "Epoch 153/200\n",
            "20/20 [==============================] - 0s 843us/step - loss: 0.0135 - accuracy: 1.0000\n",
            "Epoch 154/200\n",
            "20/20 [==============================] - 0s 645us/step - loss: 0.0143 - accuracy: 1.0000\n",
            "Epoch 155/200\n",
            "20/20 [==============================] - 0s 734us/step - loss: 0.0274 - accuracy: 1.0000\n",
            "Epoch 156/200\n",
            "20/20 [==============================] - 0s 1ms/step - loss: 0.0092 - accuracy: 1.0000\n",
            "Epoch 157/200\n",
            "20/20 [==============================] - 0s 662us/step - loss: 0.0141 - accuracy: 1.0000\n",
            "Epoch 158/200\n",
            "20/20 [==============================] - 0s 655us/step - loss: 0.0281 - accuracy: 1.0000\n",
            "Epoch 159/200\n",
            "20/20 [==============================] - 0s 689us/step - loss: 0.0181 - accuracy: 1.0000\n",
            "Epoch 160/200\n",
            "20/20 [==============================] - 0s 686us/step - loss: 0.0019 - accuracy: 1.0000\n",
            "Epoch 161/200\n",
            "20/20 [==============================] - 0s 781us/step - loss: 0.0032 - accuracy: 1.0000\n",
            "Epoch 162/200\n",
            "20/20 [==============================] - 0s 639us/step - loss: 0.0930 - accuracy: 0.9500\n",
            "Epoch 163/200\n",
            "20/20 [==============================] - 0s 675us/step - loss: 0.0202 - accuracy: 1.0000\n",
            "Epoch 164/200\n",
            "20/20 [==============================] - 0s 683us/step - loss: 0.0430 - accuracy: 1.0000\n",
            "Epoch 165/200\n",
            "20/20 [==============================] - 0s 747us/step - loss: 0.0037 - accuracy: 1.0000\n",
            "Epoch 166/200\n",
            "20/20 [==============================] - 0s 777us/step - loss: 0.0511 - accuracy: 1.0000\n",
            "Epoch 167/200\n",
            "20/20 [==============================] - 0s 749us/step - loss: 0.0064 - accuracy: 1.0000\n",
            "Epoch 168/200\n",
            "20/20 [==============================] - 0s 790us/step - loss: 0.0093 - accuracy: 1.0000\n",
            "Epoch 169/200\n",
            "20/20 [==============================] - 0s 626us/step - loss: 0.0109 - accuracy: 1.0000\n",
            "Epoch 170/200\n",
            "20/20 [==============================] - 0s 631us/step - loss: 0.1271 - accuracy: 0.9500\n",
            "Epoch 171/200\n",
            "20/20 [==============================] - 0s 713us/step - loss: 0.0081 - accuracy: 1.0000\n",
            "Epoch 172/200\n",
            "20/20 [==============================] - 0s 652us/step - loss: 0.0016 - accuracy: 1.0000\n",
            "Epoch 173/200\n",
            "20/20 [==============================] - 0s 670us/step - loss: 0.0067 - accuracy: 1.0000\n",
            "Epoch 174/200\n",
            "20/20 [==============================] - 0s 602us/step - loss: 0.0064 - accuracy: 1.0000\n",
            "Epoch 175/200\n",
            "20/20 [==============================] - 0s 863us/step - loss: 0.0069 - accuracy: 1.0000\n",
            "Epoch 176/200\n",
            "20/20 [==============================] - 0s 643us/step - loss: 0.0122 - accuracy: 1.0000\n",
            "Epoch 177/200\n",
            "20/20 [==============================] - 0s 618us/step - loss: 0.0370 - accuracy: 1.0000\n",
            "Epoch 178/200\n",
            "20/20 [==============================] - 0s 653us/step - loss: 0.0308 - accuracy: 1.0000\n",
            "Epoch 179/200\n",
            "20/20 [==============================] - 0s 719us/step - loss: 0.0293 - accuracy: 1.0000\n",
            "Epoch 180/200\n",
            "20/20 [==============================] - 0s 759us/step - loss: 0.0144 - accuracy: 1.0000\n",
            "Epoch 181/200\n",
            "20/20 [==============================] - 0s 657us/step - loss: 0.0033 - accuracy: 1.0000\n",
            "Epoch 182/200\n",
            "20/20 [==============================] - 0s 679us/step - loss: 0.0137 - accuracy: 1.0000\n",
            "Epoch 183/200\n",
            "20/20 [==============================] - 0s 726us/step - loss: 0.0108 - accuracy: 1.0000\n",
            "Epoch 184/200\n",
            "20/20 [==============================] - 0s 732us/step - loss: 0.0051 - accuracy: 1.0000\n",
            "Epoch 185/200\n",
            "20/20 [==============================] - 0s 734us/step - loss: 0.0156 - accuracy: 1.0000\n",
            "Epoch 186/200\n",
            "20/20 [==============================] - 0s 710us/step - loss: 0.0039 - accuracy: 1.0000\n",
            "Epoch 187/200\n",
            "20/20 [==============================] - 0s 677us/step - loss: 0.0738 - accuracy: 1.0000\n",
            "Epoch 188/200\n",
            "20/20 [==============================] - 0s 747us/step - loss: 7.0997e-04 - accuracy: 1.0000\n",
            "Epoch 189/200\n",
            "20/20 [==============================] - 0s 778us/step - loss: 8.3016e-04 - accuracy: 1.0000\n",
            "Epoch 190/200\n",
            "20/20 [==============================] - 0s 694us/step - loss: 0.0133 - accuracy: 1.0000\n",
            "Epoch 191/200\n",
            "20/20 [==============================] - 0s 687us/step - loss: 0.0520 - accuracy: 1.0000\n",
            "Epoch 192/200\n",
            "20/20 [==============================] - 0s 751us/step - loss: 0.0815 - accuracy: 0.9500\n",
            "Epoch 193/200\n",
            "20/20 [==============================] - 0s 642us/step - loss: 0.0080 - accuracy: 1.0000\n",
            "Epoch 194/200\n",
            "20/20 [==============================] - 0s 611us/step - loss: 0.0095 - accuracy: 1.0000\n",
            "Epoch 195/200\n",
            "20/20 [==============================] - 0s 635us/step - loss: 0.0248 - accuracy: 1.0000\n",
            "Epoch 196/200\n",
            "20/20 [==============================] - 0s 701us/step - loss: 0.0376 - accuracy: 1.0000\n",
            "Epoch 197/200\n",
            "20/20 [==============================] - 0s 675us/step - loss: 0.0030 - accuracy: 1.0000\n",
            "Epoch 198/200\n",
            "20/20 [==============================] - 0s 697us/step - loss: 0.0073 - accuracy: 1.0000\n",
            "Epoch 199/200\n",
            "20/20 [==============================] - 0s 621us/step - loss: 0.0077 - accuracy: 1.0000\n",
            "Epoch 200/200\n",
            "20/20 [==============================] - 0s 621us/step - loss: 0.0048 - accuracy: 1.0000\n"
          ],
          "name": "stdout"
        }
      ]
    },
    {
      "cell_type": "code",
      "metadata": {
        "id": "GGMR6Ed_f0eZ",
        "colab_type": "code",
        "colab": {
          "base_uri": "https://localhost:8080/",
          "height": 35
        },
        "outputId": "c3dfa918-94f4-4639-9a05-1f58d03b827a"
      },
      "source": [
        "%ls"
      ],
      "execution_count": 13,
      "outputs": [
        {
          "output_type": "stream",
          "text": [
            "chatbot_model.h5  classes.pkl  intents.json  words.pkl\n"
          ],
          "name": "stdout"
        }
      ]
    },
    {
      "cell_type": "code",
      "metadata": {
        "id": "kWR9n-lZf_Zo",
        "colab_type": "code",
        "colab": {
          "base_uri": "https://localhost:8080/",
          "height": 575
        },
        "outputId": "d20bd73a-9ccc-4e2d-d124-30317d9e9366"
      },
      "source": [
        "!pip3 install telepot"
      ],
      "execution_count": 14,
      "outputs": [
        {
          "output_type": "stream",
          "text": [
            "Collecting telepot\n",
            "\u001b[?25l  Downloading https://files.pythonhosted.org/packages/f6/a8/0ed945afd8064b850c1653816c16ebda1cf07d65fee228b6d1139a49cbbd/telepot-12.7.tar.gz (73kB)\n",
            "\r\u001b[K     |████▌                           | 10kB 22.4MB/s eta 0:00:01\r\u001b[K     |█████████                       | 20kB 5.0MB/s eta 0:00:01\r\u001b[K     |█████████████▍                  | 30kB 6.2MB/s eta 0:00:01\r\u001b[K     |██████████████████              | 40kB 5.3MB/s eta 0:00:01\r\u001b[K     |██████████████████████▍         | 51kB 6.4MB/s eta 0:00:01\r\u001b[K     |██████████████████████████▉     | 61kB 7.5MB/s eta 0:00:01\r\u001b[K     |███████████████████████████████▍| 71kB 6.4MB/s eta 0:00:01\r\u001b[K     |████████████████████████████████| 81kB 4.0MB/s \n",
            "\u001b[?25hRequirement already satisfied: urllib3>=1.9.1 in /usr/local/lib/python3.6/dist-packages (from telepot) (1.24.3)\n",
            "Collecting aiohttp>=3.0.0\n",
            "\u001b[?25l  Downloading https://files.pythonhosted.org/packages/7c/39/7eb5f98d24904e0f6d3edb505d4aa60e3ef83c0a58d6fe18244a51757247/aiohttp-3.6.2-cp36-cp36m-manylinux1_x86_64.whl (1.2MB)\n",
            "\u001b[K     |████████████████████████████████| 1.2MB 8.7MB/s \n",
            "\u001b[?25hRequirement already satisfied: typing-extensions>=3.6.5; python_version < \"3.7\" in /usr/local/lib/python3.6/dist-packages (from aiohttp>=3.0.0->telepot) (3.6.6)\n",
            "Collecting multidict<5.0,>=4.5\n",
            "\u001b[?25l  Downloading https://files.pythonhosted.org/packages/1a/95/f50352b5366e7d579e8b99631680a9e32e1b22adfa1629a8f23b1d22d5e2/multidict-4.7.6-cp36-cp36m-manylinux1_x86_64.whl (148kB)\n",
            "\u001b[K     |████████████████████████████████| 153kB 33.3MB/s \n",
            "\u001b[?25hCollecting async-timeout<4.0,>=3.0\n",
            "  Downloading https://files.pythonhosted.org/packages/e1/1e/5a4441be21b0726c4464f3f23c8b19628372f606755a9d2e46c187e65ec4/async_timeout-3.0.1-py3-none-any.whl\n",
            "Collecting yarl<2.0,>=1.0\n",
            "\u001b[?25l  Downloading https://files.pythonhosted.org/packages/95/8f/0209fc5d975f839344c33c822ff2f7ef80f6b1e984673a5a68f960bfa583/yarl-1.4.2-cp36-cp36m-manylinux1_x86_64.whl (252kB)\n",
            "\u001b[K     |████████████████████████████████| 256kB 42.1MB/s \n",
            "\u001b[?25hRequirement already satisfied: chardet<4.0,>=2.0 in /usr/local/lib/python3.6/dist-packages (from aiohttp>=3.0.0->telepot) (3.0.4)\n",
            "Collecting idna-ssl>=1.0; python_version < \"3.7\"\n",
            "  Downloading https://files.pythonhosted.org/packages/46/03/07c4894aae38b0de52b52586b24bf189bb83e4ddabfe2e2c8f2419eec6f4/idna-ssl-1.1.0.tar.gz\n",
            "Requirement already satisfied: attrs>=17.3.0 in /usr/local/lib/python3.6/dist-packages (from aiohttp>=3.0.0->telepot) (19.3.0)\n",
            "Requirement already satisfied: idna>=2.0 in /usr/local/lib/python3.6/dist-packages (from yarl<2.0,>=1.0->aiohttp>=3.0.0->telepot) (2.9)\n",
            "Building wheels for collected packages: telepot, idna-ssl\n",
            "  Building wheel for telepot (setup.py) ... \u001b[?25l\u001b[?25hdone\n",
            "  Created wheel for telepot: filename=telepot-12.7-cp36-none-any.whl size=57963 sha256=0e3b111ec95a328772764fd1220e4dcd4f84c44c7f5a8118afe69af4168ad6f5\n",
            "  Stored in directory: /root/.cache/pip/wheels/65/17/50/983034e27e6b5d8dfc497a51b5b13d970d8018a83f47e6513a\n",
            "  Building wheel for idna-ssl (setup.py) ... \u001b[?25l\u001b[?25hdone\n",
            "  Created wheel for idna-ssl: filename=idna_ssl-1.1.0-cp36-none-any.whl size=3162 sha256=5f303af48f4ee119791f1d66511a6069214487c59ed1e19238d31ee21e7b6365\n",
            "  Stored in directory: /root/.cache/pip/wheels/d3/00/b3/32d613e19e08a739751dd6bf998cfed277728f8b2127ad4eb7\n",
            "Successfully built telepot idna-ssl\n",
            "Installing collected packages: multidict, async-timeout, yarl, idna-ssl, aiohttp, telepot\n",
            "Successfully installed aiohttp-3.6.2 async-timeout-3.0.1 idna-ssl-1.1.0 multidict-4.7.6 telepot-12.7 yarl-1.4.2\n"
          ],
          "name": "stdout"
        }
      ]
    },
    {
      "cell_type": "code",
      "metadata": {
        "id": "sIqeb6F7gINQ",
        "colab_type": "code",
        "colab": {}
      },
      "source": [
        "import nltk\n",
        "from nltk.stem import WordNetLemmatizer\n",
        "lemmatizer = WordNetLemmatizer()\n",
        "import pickle\n",
        "import numpy as np\n",
        "\n",
        "#from keras.models import load_model\n",
        "from tensorflow.keras.models import load_model\n",
        "model = load_model('chatbot_model.h5')\n",
        "import json\n",
        "import random\n",
        "intents = json.loads(open('intents.json').read())\n",
        "words = pickle.load(open('words.pkl','rb'))\n",
        "classes = pickle.load(open('classes.pkl','rb'))\n",
        "\n",
        "\n",
        "def clean_up_sentence(sentence):\n",
        "    # tokenize the pattern - splitting words into array\n",
        "    sentence_words = nltk.word_tokenize(sentence)\n",
        "    # stemming every word - reducing to base form\n",
        "    sentence_words = [lemmatizer.lemmatize(word.lower()) for word in sentence_words]\n",
        "    return sentence_words\n",
        "\n",
        "\n",
        "# return bag of words array: 0 or 1 for words that exist in sentence\n",
        "def bag_of_words(sentence, words, show_details=True):\n",
        "    # tokenizing patterns\n",
        "    sentence_words = clean_up_sentence(sentence)\n",
        "    # bag of words - vocabulary matrix\n",
        "    bag = [0]*len(words)  \n",
        "    for s in sentence_words:\n",
        "        for i,word in enumerate(words):\n",
        "            if word == s: \n",
        "                # assign 1 if current word is in the vocabulary position\n",
        "                bag[i] = 1\n",
        "                if show_details:\n",
        "                    print (\"found in bag: %s\" % word)\n",
        "    return(np.array(bag))\n",
        "\n",
        "def predict_class(sentence):\n",
        "    # filter below  threshold predictions\n",
        "    p = bag_of_words(sentence, words,show_details=False)\n",
        "    res = model.predict(np.array([p]))[0]\n",
        "    ERROR_THRESHOLD = 0.25\n",
        "    results = [[i,r] for i,r in enumerate(res) if r>ERROR_THRESHOLD]\n",
        "    # sorting strength probability\n",
        "    results.sort(key=lambda x: x[1], reverse=True)\n",
        "    return_list = []\n",
        "    for r in results:\n",
        "        return_list.append({\"intent\": classes[r[0]], \"probability\": str(r[1])})\n",
        "    return return_list\n",
        "\n",
        "def getResponse(ints, intents_json):\n",
        "    tag = ints[0]['intent']\n",
        "    list_of_intents = intents_json['intents']\n",
        "    for i in list_of_intents:\n",
        "        if(i['tag']== tag):\n",
        "            result = random.choice(i['responses'])\n",
        "            break\n",
        "    return result\n",
        "\n",
        "def predict_response(msg):\n",
        "  ints = predict_class(msg)\n",
        "  res = getResponse(ints, intents)\n",
        "  return res\n",
        "\n",
        "def on_chat_message(msg):\n",
        "    content_type, chat_type, chat_id = telepot.glance(msg)\n",
        "    if content_type == 'text':\n",
        "        #name = msg[\"first_name\"]\n",
        "        txt = msg['text']\n",
        "        res=predict_response(txt)\n",
        "        bot.sendMessage(chat_id, res)"
      ],
      "execution_count": 0,
      "outputs": []
    },
    {
      "cell_type": "code",
      "metadata": {
        "id": "V7kvrDGAgQOg",
        "colab_type": "code",
        "colab": {
          "base_uri": "https://localhost:8080/",
          "height": 218
        },
        "outputId": "3790b6e6-948d-4e3e-a75c-1876aa0e2e35"
      },
      "source": [
        "import telepot\n",
        "\n",
        "TOKEN = '<TOKEN>'\n",
        "\n",
        "bot = telepot.Bot(TOKEN)\n",
        "bot.message_loop(on_chat_message)\n",
        "\n",
        "print('Listening ...')\n",
        "\n",
        "import time\n",
        "while 1:\n",
        "    time.sleep(10)"
      ],
      "execution_count": 16,
      "outputs": [
        {
          "output_type": "stream",
          "text": [
            "Listening ...\n"
          ],
          "name": "stdout"
        },
        {
          "output_type": "error",
          "ename": "KeyboardInterrupt",
          "evalue": "ignored",
          "traceback": [
            "\u001b[0;31m---------------------------------------------------------------------------\u001b[0m",
            "\u001b[0;31mKeyboardInterrupt\u001b[0m                         Traceback (most recent call last)",
            "\u001b[0;32m<ipython-input-16-40eb435303fa>\u001b[0m in \u001b[0;36m<module>\u001b[0;34m()\u001b[0m\n\u001b[1;32m     10\u001b[0m \u001b[0;32mimport\u001b[0m \u001b[0mtime\u001b[0m\u001b[0;34m\u001b[0m\u001b[0;34m\u001b[0m\u001b[0m\n\u001b[1;32m     11\u001b[0m \u001b[0;32mwhile\u001b[0m \u001b[0;36m1\u001b[0m\u001b[0;34m:\u001b[0m\u001b[0;34m\u001b[0m\u001b[0;34m\u001b[0m\u001b[0m\n\u001b[0;32m---> 12\u001b[0;31m     \u001b[0mtime\u001b[0m\u001b[0;34m.\u001b[0m\u001b[0msleep\u001b[0m\u001b[0;34m(\u001b[0m\u001b[0;36m10\u001b[0m\u001b[0;34m)\u001b[0m\u001b[0;34m\u001b[0m\u001b[0;34m\u001b[0m\u001b[0m\n\u001b[0m",
            "\u001b[0;31mKeyboardInterrupt\u001b[0m: "
          ]
        }
      ]
    },
    {
      "cell_type": "code",
      "metadata": {
        "id": "wWyoCeROgScJ",
        "colab_type": "code",
        "colab": {}
      },
      "source": [
        ""
      ],
      "execution_count": 0,
      "outputs": []
    }
  ]
}